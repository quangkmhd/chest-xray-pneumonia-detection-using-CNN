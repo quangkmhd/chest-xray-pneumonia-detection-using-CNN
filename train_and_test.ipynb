{
 "cells": [
  {
   "cell_type": "code",
   "execution_count": 2,
   "metadata": {
    "_cell_guid": "b1076dfc-b9ad-4769-8c92-a6c4dae69d19",
    "_uuid": "8f2839f25d086af736a60e9eeb907d3b93b6e0e5",
    "collapsed": true,
    "execution": {
     "iopub.execute_input": "2025-02-28T06:58:11.588713Z",
     "iopub.status.busy": "2025-02-28T06:58:11.588385Z",
     "iopub.status.idle": "2025-02-28T06:58:25.125259Z",
     "shell.execute_reply": "2025-02-28T06:58:25.124580Z",
     "shell.execute_reply.started": "2025-02-28T06:58:11.588685Z"
    },
    "jupyter": {
     "outputs_hidden": true
    },
    "trusted": true
   },
   "outputs": [],
   "source": [
    "# This Python 3 environment comes with many helpful analytics libraries installed\n",
    "# It is defined by the kaggle/python Docker image: https://github.com/kaggle/docker-python\n",
    "# For example, here's several helpful packages to load\n",
    "\n",
    "import numpy as np # linear algebra\n",
    "import pandas as pd # data processing, CSV file I/O (e.g. pd.read_csv)\n",
    "\n",
    "# Input data files are available in the read-only \"../input/\" directory\n",
    "# For example, running this (by clicking run or pressing Shift+Enter) will list all files under the input directory\n",
    "\n",
    "import os\n",
    "for dirname, _, filenames in os.walk('/kaggle/input'):\n",
    "    for filename in filenames:\n",
    "        os.path.join(dirname, filename)\n",
    "\n",
    "# You can write up to 20GB to the current directory (/kaggle/working/) that gets preserved as output when you create a version using \"Save & Run All\" \n",
    "# You can also write temporary files to /kaggle/temp/, but they won't be saved outside of the current session"
   ]
  },
  {
   "cell_type": "code",
   "execution_count": 3,
   "metadata": {
    "execution": {
     "iopub.execute_input": "2025-02-28T07:35:45.254629Z",
     "iopub.status.busy": "2025-02-28T07:35:45.254343Z",
     "iopub.status.idle": "2025-02-28T07:35:45.264997Z",
     "shell.execute_reply": "2025-02-28T07:35:45.264265Z",
     "shell.execute_reply.started": "2025-02-28T07:35:45.254608Z"
    },
    "trusted": true
   },
   "outputs": [],
   "source": [
    "import tensorflow as tf\n",
    "from tensorflow.keras.preprocessing.image import ImageDataGenerator\n",
    "from tensorflow.keras.applications import VGG16\n",
    "from tensorflow.keras import layers\n",
    "from tensorflow.keras import Model\n",
    "from tensorflow.keras.preprocessing import image\n",
    "import tensorflow as tf\n",
    "from tensorflow.keras.models import Sequential\n",
    "from tensorflow.keras.layers import Conv2D, MaxPooling2D, Flatten, Dense, Dropout\n",
    "import numpy as np\n",
    "import cv2\n",
    "import os\n"
   ]
  },
  {
   "cell_type": "code",
   "execution_count": 44,
   "metadata": {
    "execution": {
     "iopub.execute_input": "2025-02-28T07:22:09.954529Z",
     "iopub.status.busy": "2025-02-28T07:22:09.954192Z",
     "iopub.status.idle": "2025-02-28T07:22:09.958141Z",
     "shell.execute_reply": "2025-02-28T07:22:09.957181Z",
     "shell.execute_reply.started": "2025-02-28T07:22:09.954501Z"
    },
    "trusted": true
   },
   "outputs": [],
   "source": [
    "# Set the paths to your dataset\n",
    "train_path = '/kaggle/input/chest-xray-pneumonia/chest_xray/train'\n",
    "test_path = '/kaggle/input/chest-xray-pneumonia/chest_xray/test'\n",
    "val_path = '/kaggle/input/chest-xray-pneumonia/chest_xray/val'\n",
    "\n",
    "# Image dimensions and batch size"
   ]
  },
  {
   "cell_type": "code",
   "execution_count": 38,
   "metadata": {
    "execution": {
     "iopub.execute_input": "2025-02-28T07:06:46.637925Z",
     "iopub.status.busy": "2025-02-28T07:06:46.637626Z",
     "iopub.status.idle": "2025-02-28T07:06:46.642733Z",
     "shell.execute_reply": "2025-02-28T07:06:46.641865Z",
     "shell.execute_reply.started": "2025-02-28T07:06:46.637903Z"
    },
    "trusted": true
   },
   "outputs": [],
   "source": [
    "def load_dataset(base_path):\n",
    "    categories = ['PNEUMONIA', 'NORMAL']\n",
    "    data = []\n",
    "    labels = []\n",
    "\n",
    "    for label, category in enumerate(categories):\n",
    "        folder_path = os.path.join(base_path, category)\n",
    "        for filename in os.listdir(folder_path):\n",
    "            img_path = os.path.join(folder_path, filename)\n",
    "            image = load_and_preprocess_image(img_path)\n",
    "            data.append(image)\n",
    "            labels.append(label)\n",
    "\n",
    "    return np.array(data), np.array(labels)"
   ]
  },
  {
   "cell_type": "code",
   "execution_count": 39,
   "metadata": {
    "execution": {
     "iopub.execute_input": "2025-02-28T07:06:48.380152Z",
     "iopub.status.busy": "2025-02-28T07:06:48.379877Z",
     "iopub.status.idle": "2025-02-28T07:07:36.226806Z",
     "shell.execute_reply": "2025-02-28T07:07:36.226016Z",
     "shell.execute_reply.started": "2025-02-28T07:06:48.380132Z"
    },
    "trusted": true
   },
   "outputs": [],
   "source": [
    "train_data, train_labels = load_dataset(train_path)\n",
    "test_data, test_lables = load_dataset(test_path)\n",
    "val_data, val_lables = load_dataset(val_path)"
   ]
  },
  {
   "cell_type": "code",
   "execution_count": 40,
   "metadata": {
    "execution": {
     "iopub.execute_input": "2025-02-28T07:09:44.524214Z",
     "iopub.status.busy": "2025-02-28T07:09:44.523878Z",
     "iopub.status.idle": "2025-02-28T07:09:44.528249Z",
     "shell.execute_reply": "2025-02-28T07:09:44.527279Z",
     "shell.execute_reply.started": "2025-02-28T07:09:44.524192Z"
    },
    "trusted": true
   },
   "outputs": [],
   "source": [
    "image_size = (224, 224)\n",
    "batch_size = 32"
   ]
  },
  {
   "cell_type": "code",
   "execution_count": 47,
   "metadata": {
    "execution": {
     "iopub.execute_input": "2025-02-28T07:22:53.833146Z",
     "iopub.status.busy": "2025-02-28T07:22:53.832866Z",
     "iopub.status.idle": "2025-02-28T07:22:53.837097Z",
     "shell.execute_reply": "2025-02-28T07:22:53.836412Z",
     "shell.execute_reply.started": "2025-02-28T07:22:53.833127Z"
    },
    "trusted": true
   },
   "outputs": [],
   "source": [
    "#Tang cuong du lieu trainning data augmentation\n",
    "train_data_gen = ImageDataGenerator(\n",
    "    rescale = 1/255,\n",
    "    rotation_range = 20,\n",
    "    width_shift_range = 0.2,\n",
    "    height_shift_range = 0.2,\n",
    "    zoom_range = 0.2,\n",
    "    horizontal_flip = True,\n",
    "    fill_mode = 'nearest' \n",
    ")"
   ]
  },
  {
   "cell_type": "code",
   "execution_count": 49,
   "metadata": {
    "execution": {
     "iopub.execute_input": "2025-02-28T07:25:16.056226Z",
     "iopub.status.busy": "2025-02-28T07:25:16.055889Z",
     "iopub.status.idle": "2025-02-28T07:25:17.727545Z",
     "shell.execute_reply": "2025-02-28T07:25:17.726897Z",
     "shell.execute_reply.started": "2025-02-28T07:25:16.056200Z"
    },
    "trusted": true
   },
   "outputs": [
    {
     "name": "stdout",
     "output_type": "stream",
     "text": [
      "Found 5216 images belonging to 2 classes.\n"
     ]
    }
   ],
   "source": [
    "# preprocess and augment trainning data\n",
    "train_data = train_data_gen.flow_from_directory(\n",
    "    directory = train_path,\n",
    "    target_size = image_size,\n",
    "    batch_size = batch_size,\n",
    "    class_mode = \"binary\"\n",
    ")"
   ]
  },
  {
   "cell_type": "code",
   "execution_count": 50,
   "metadata": {
    "execution": {
     "iopub.execute_input": "2025-02-28T07:27:34.833988Z",
     "iopub.status.busy": "2025-02-28T07:27:34.833681Z",
     "iopub.status.idle": "2025-02-28T07:27:35.702665Z",
     "shell.execute_reply": "2025-02-28T07:27:35.702008Z",
     "shell.execute_reply.started": "2025-02-28T07:27:34.833964Z"
    },
    "trusted": true
   },
   "outputs": [
    {
     "name": "stdout",
     "output_type": "stream",
     "text": [
      "Found 624 images belonging to 2 classes.\n"
     ]
    }
   ],
   "source": [
    "#preprocess test data set\n",
    "test_data_gen = ImageDataGenerator(rescale = 1/255)\n",
    "test_data = test_data_gen.flow_from_directory(\n",
    "    directory = test_path,\n",
    "    target_size = image_size,\n",
    "    batch_size = batch_size,\n",
    "    class_mode = \"binary\"\n",
    ")"
   ]
  },
  {
   "cell_type": "code",
   "execution_count": 51,
   "metadata": {
    "execution": {
     "iopub.execute_input": "2025-02-28T07:28:02.225097Z",
     "iopub.status.busy": "2025-02-28T07:28:02.224804Z",
     "iopub.status.idle": "2025-02-28T07:28:02.236500Z",
     "shell.execute_reply": "2025-02-28T07:28:02.235692Z",
     "shell.execute_reply.started": "2025-02-28T07:28:02.225075Z"
    },
    "trusted": true
   },
   "outputs": [
    {
     "name": "stdout",
     "output_type": "stream",
     "text": [
      "Found 16 images belonging to 2 classes.\n"
     ]
    }
   ],
   "source": [
    "val_data_gen = ImageDataGenerator(rescale = 1/255)\n",
    "val_data = test_data_gen.flow_from_directory(\n",
    "    directory = val_path,\n",
    "    target_size = image_size,\n",
    "    batch_size = batch_size,\n",
    "    class_mode = \"binary\"\n",
    ")"
   ]
  },
  {
   "cell_type": "code",
   "execution_count": 65,
   "metadata": {
    "execution": {
     "iopub.execute_input": "2025-02-28T08:20:41.428129Z",
     "iopub.status.busy": "2025-02-28T08:20:41.427802Z",
     "iopub.status.idle": "2025-02-28T08:20:41.699156Z",
     "shell.execute_reply": "2025-02-28T08:20:41.698243Z",
     "shell.execute_reply.started": "2025-02-28T08:20:41.428102Z"
    },
    "trusted": true
   },
   "outputs": [],
   "source": [
    "# Sử dụng VGG thuộc CNN\n",
    "#VGG16(include_top=False): Bỏ các tầng Fully Connected gốc của VGG16.\n",
    "#weights='imagenet': Dùng trọng số đã được huấn luyện trên tập ImageNet.\n",
    "base_model = VGG16(include_top=False, weights = \"imagenet\", input_shape= ((224,224,3)))\n",
    "\n",
    "\n",
    "#Không cập nhật trọng số (weights) của tầng đó trong quá trình huấn luyện.\n",
    "#Giúp giảm số lượng tham số cần huấn luyện, tránh overfitting khi dữ liệu nhỏ.\n",
    "for layer in base_model.layers: #duyệt qua từng tầng của mô hình\n",
    "    layer.trainable = False \n",
    "\n",
    "\n",
    "#fully connected để phân loại\n",
    "x = layers.Flatten()(base_model.output) # biến các feature thành 1D\n",
    "\n",
    "#Giữ nguyên các giá trị dương, đặt 0 cho các giá trị âm\n",
    "x = layers.Dense(512, activation = \"relu\")(x) # 512 neuron, relu là mô hình phi tuyến tính giúp học các đặc trưng phức tạp\n",
    "\n",
    "x =layers.Dropout(0.5)(x) # Loại bỏ ngẫu nhiên 50% số neurons giúp giảm overfitting\n",
    "\n",
    "#Chuyển đổi đầu ra thành giá trị trong khoảng (0,1) → biến nó thành xác suất\n",
    "x = layers.Dense(1, activation='sigmoid')(x) # 1 neuron\n",
    "\n",
    "model = Model(base_model.input, x)"
   ]
  },
  {
   "cell_type": "code",
   "execution_count": 77,
   "metadata": {
    "execution": {
     "iopub.execute_input": "2025-02-28T08:43:24.640016Z",
     "iopub.status.busy": "2025-02-28T08:43:24.639685Z",
     "iopub.status.idle": "2025-02-28T08:43:24.648182Z",
     "shell.execute_reply": "2025-02-28T08:43:24.647387Z",
     "shell.execute_reply.started": "2025-02-28T08:43:24.639991Z"
    },
    "trusted": true
   },
   "outputs": [],
   "source": [
    "# Tối ưu tham số\n",
    "learning_rate = 0.001\n",
    "batch_size = 64\n",
    "epochs = 10\n",
    "optimizer = tf.keras.optimizers.Adam(learning_rate=learning_rate)\n",
    "\n",
    "model.compile(optimizer=optimizer,\n",
    "             loss = \"binary_crossentropy\",\n",
    "             metrics = [\"accuracy\"])\n"
   ]
  },
  {
   "cell_type": "code",
   "execution_count": 78,
   "metadata": {
    "execution": {
     "iopub.execute_input": "2025-02-28T08:43:24.878689Z",
     "iopub.status.busy": "2025-02-28T08:43:24.878444Z",
     "iopub.status.idle": "2025-02-28T08:43:24.882539Z",
     "shell.execute_reply": "2025-02-28T08:43:24.881738Z",
     "shell.execute_reply.started": "2025-02-28T08:43:24.878668Z"
    },
    "trusted": true
   },
   "outputs": [],
   "source": [
    "# callbacks\n",
    "\n",
    "#Giảm learning rate nếu mô hình không còn cải thiện để giúp tiếp tục tối ưu.\n",
    "lr_scheduler = tf.keras.callbacks.ReduceLROnPlateau(monitor='val_loss', factor=0.5, patience=3, min_lr=1e-6)\n",
    "\n",
    "#Dừng huấn luyện sớm nếu val_loss không cải thiện trong một số epochs liên tiếp.\n",
    "early_stopping = tf.keras.callbacks.EarlyStopping(monitor='val_loss', patience=5, restore_best_weights=True)\n"
   ]
  },
  {
   "cell_type": "code",
   "execution_count": 79,
   "metadata": {
    "execution": {
     "iopub.execute_input": "2025-02-28T08:43:25.768642Z",
     "iopub.status.busy": "2025-02-28T08:43:25.768352Z",
     "iopub.status.idle": "2025-02-28T08:53:54.281086Z",
     "shell.execute_reply": "2025-02-28T08:53:54.280398Z",
     "shell.execute_reply.started": "2025-02-28T08:43:25.768619Z"
    },
    "trusted": true
   },
   "outputs": [
    {
     "name": "stdout",
     "output_type": "stream",
     "text": [
      "Epoch 1/10\n",
      "\u001b[1m163/163\u001b[0m \u001b[32m━━━━━━━━━━━━━━━━━━━━\u001b[0m\u001b[37m\u001b[0m \u001b[1m92s\u001b[0m 527ms/step - accuracy: 0.8983 - loss: 0.2388 - val_accuracy: 0.7500 - val_loss: 0.3803 - learning_rate: 0.0010\n",
      "Epoch 2/10\n",
      "\u001b[1m163/163\u001b[0m \u001b[32m━━━━━━━━━━━━━━━━━━━━\u001b[0m\u001b[37m\u001b[0m \u001b[1m89s\u001b[0m 522ms/step - accuracy: 0.9184 - loss: 0.1988 - val_accuracy: 0.9375 - val_loss: 0.1871 - learning_rate: 0.0010\n",
      "Epoch 3/10\n",
      "\u001b[1m163/163\u001b[0m \u001b[32m━━━━━━━━━━━━━━━━━━━━\u001b[0m\u001b[37m\u001b[0m \u001b[1m90s\u001b[0m 530ms/step - accuracy: 0.9192 - loss: 0.1848 - val_accuracy: 0.7500 - val_loss: 0.6753 - learning_rate: 0.0010\n",
      "Epoch 4/10\n",
      "\u001b[1m163/163\u001b[0m \u001b[32m━━━━━━━━━━━━━━━━━━━━\u001b[0m\u001b[37m\u001b[0m \u001b[1m88s\u001b[0m 518ms/step - accuracy: 0.9293 - loss: 0.1813 - val_accuracy: 0.7500 - val_loss: 0.5011 - learning_rate: 0.0010\n",
      "Epoch 5/10\n",
      "\u001b[1m163/163\u001b[0m \u001b[32m━━━━━━━━━━━━━━━━━━━━\u001b[0m\u001b[37m\u001b[0m \u001b[1m89s\u001b[0m 523ms/step - accuracy: 0.9303 - loss: 0.1807 - val_accuracy: 0.8125 - val_loss: 0.2916 - learning_rate: 0.0010\n",
      "Epoch 6/10\n",
      "\u001b[1m163/163\u001b[0m \u001b[32m━━━━━━━━━━━━━━━━━━━━\u001b[0m\u001b[37m\u001b[0m \u001b[1m90s\u001b[0m 525ms/step - accuracy: 0.9373 - loss: 0.1598 - val_accuracy: 0.8125 - val_loss: 0.3109 - learning_rate: 5.0000e-04\n",
      "Epoch 7/10\n",
      "\u001b[1m163/163\u001b[0m \u001b[32m━━━━━━━━━━━━━━━━━━━━\u001b[0m\u001b[37m\u001b[0m \u001b[1m89s\u001b[0m 523ms/step - accuracy: 0.9432 - loss: 0.1441 - val_accuracy: 0.8125 - val_loss: 0.2801 - learning_rate: 5.0000e-04\n"
     ]
    }
   ],
   "source": [
    "history = model.fit(train_data,\n",
    "                    batch_size=batch_size,\n",
    "                    epochs=epochs,\n",
    "                    validation_data=val_data,\n",
    "                    callbacks=[lr_scheduler, early_stopping])"
   ]
  },
  {
   "cell_type": "code",
   "execution_count": 103,
   "metadata": {
    "execution": {
     "iopub.execute_input": "2025-02-28T09:27:25.724947Z",
     "iopub.status.busy": "2025-02-28T09:27:25.724578Z",
     "iopub.status.idle": "2025-02-28T09:27:26.046510Z",
     "shell.execute_reply": "2025-02-28T09:27:26.045544Z",
     "shell.execute_reply.started": "2025-02-28T09:27:25.724915Z"
    },
    "trusted": true
   },
   "outputs": [],
   "source": [
    "# Save the model\n",
    "model.save('/kaggle/working/cnn_model_chest-xray-pneumonia.h5')"
   ]
  },
  {
   "cell_type": "code",
   "execution_count": null,
   "metadata": {
    "trusted": true
   },
   "outputs": [],
   "source": []
  }
 ],
 "metadata": {
  "kaggle": {
   "accelerator": "nvidiaTeslaT4",
   "dataSources": [
    {
     "datasetId": 17810,
     "sourceId": 23812,
     "sourceType": "datasetVersion"
    },
    {
     "datasetId": 6759081,
     "sourceId": 10878348,
     "sourceType": "datasetVersion"
    }
   ],
   "dockerImageVersionId": 30919,
   "isGpuEnabled": true,
   "isInternetEnabled": true,
   "language": "python",
   "sourceType": "notebook"
  },
  "kernelspec": {
   "display_name": "Python 3",
   "language": "python",
   "name": "python3"
  },
  "language_info": {
   "codemirror_mode": {
    "name": "ipython",
    "version": 3
   },
   "file_extension": ".py",
   "mimetype": "text/x-python",
   "name": "python",
   "nbconvert_exporter": "python",
   "pygments_lexer": "ipython3",
   "version": "3.11.9"
  }
 },
 "nbformat": 4,
 "nbformat_minor": 4
}
